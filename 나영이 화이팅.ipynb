{
  "nbformat": 4,
  "nbformat_minor": 0,
  "metadata": {
    "colab": {
      "provenance": []
    },
    "kernelspec": {
      "name": "python3",
      "display_name": "Python 3"
    },
    "language_info": {
      "name": "python"
    }
  },
  "cells": [
    {
      "cell_type": "code",
      "execution_count": 7,
      "metadata": {
        "id": "be6uIBDDPtlS"
      },
      "outputs": [],
      "source": [
        "import pandas as pd\n",
        "\n",
        "# 소비자 구매 데이터 (예시)\n",
        "purchase_data = pd.DataFrame({\n",
        "    'customer_id': [1, 1, 2, 2, 3, 3],\n",
        "    'item': ['쌀', '배추', '쌀', '고춧가루', '배추', '무']\n",
        "})\n",
        "\n",
        "# 상품 속성 데이터\n",
        "item_data = pd.DataFrame({\n",
        "    'item': ['쌀', '배추', '고춧가루', '무', '천일염'],\n",
        "    'tags': ['곡물 건강', '채소 김장 필수', '조미료 매운맛', '채소 김치', '조미료 소금']\n",
        "})"
      ]
    },
    {
      "cell_type": "markdown",
      "source": [
        "콘텐츠 기반 추천\n"
      ],
      "metadata": {
        "id": "xuKVYShnQARG"
      }
    },
    {
      "cell_type": "code",
      "source": [
        "from sklearn.feature_extraction.text import TfidfVectorizer\n",
        "from sklearn.metrics.pairwise import cosine_similarity\n",
        "\n",
        "# 상품 태그 데이터를 TF-IDF로 벡터화\n",
        "vectorizer = TfidfVectorizer()\n",
        "tfidf_matrix = vectorizer.fit_transform(item_data['tags'])\n",
        "\n",
        "# 아이템 간 유사도 계산\n",
        "content_similarity = cosine_similarity(tfidf_matrix, tfidf_matrix)\n",
        "\n",
        "# 결과를 데이터프레임으로 변환\n",
        "content_similarity_df = pd.DataFrame(content_similarity, index=item_data['item'], columns=item_data['item'])\n",
        "print(\"콘텐츠 기반 유사도:\\n\", content_similarity_df)\n"
      ],
      "metadata": {
        "colab": {
          "base_uri": "https://localhost:8080/"
        },
        "id": "O0I4tbzSP2Tw",
        "outputId": "47201bfc-3e36-4e54-b2ed-6dd8b1619c32"
      },
      "execution_count": 2,
      "outputs": [
        {
          "output_type": "stream",
          "name": "stdout",
          "text": [
            "콘텐츠 기반 유사도:\n",
            " item    쌀        배추      고춧가루         무       천일염\n",
            "item                                             \n",
            "쌀     1.0  0.000000  0.000000  0.000000  0.000000\n",
            "배추    0.0  1.000000  0.000000  0.311146  0.000000\n",
            "고춧가루  0.0  0.000000  1.000000  0.000000  0.394276\n",
            "무     0.0  0.311146  0.000000  1.000000  0.000000\n",
            "천일염   0.0  0.000000  0.394276  0.000000  1.000000\n"
          ]
        }
      ]
    },
    {
      "cell_type": "markdown",
      "source": [
        "협업 필터링"
      ],
      "metadata": {
        "id": "a_s9urL6QBsh"
      }
    },
    {
      "cell_type": "code",
      "source": [
        "# 사용자-아이템 매트릭스 생성\n",
        "user_item_matrix = purchase_data.pivot_table(index='customer_id', columns='item', aggfunc=lambda x: 1, fill_value=0)\n",
        "\n",
        "# 아이템 간 유사도 계산\n",
        "collab_similarity = cosine_similarity(user_item_matrix.T)\n",
        "collab_similarity_df = pd.DataFrame(collab_similarity, index=user_item_matrix.columns, columns=user_item_matrix.columns)\n",
        "print(\"협업 필터링 유사도:\\n\", collab_similarity_df)\n"
      ],
      "metadata": {
        "colab": {
          "base_uri": "https://localhost:8080/"
        },
        "id": "HS3mCEvmP2WT",
        "outputId": "b9cd09d6-53fc-4cf8-f717-df7d78d62900"
      },
      "execution_count": 3,
      "outputs": [
        {
          "output_type": "stream",
          "name": "stdout",
          "text": [
            "협업 필터링 유사도:\n",
            " item      고춧가루         무        배추         쌀\n",
            "item                                        \n",
            "고춧가루  1.000000  0.000000  0.000000  0.707107\n",
            "무     0.000000  1.000000  0.707107  0.000000\n",
            "배추    0.000000  0.707107  1.000000  0.500000\n",
            "쌀     0.707107  0.000000  0.500000  1.000000\n"
          ]
        }
      ]
    },
    {
      "cell_type": "code",
      "source": [
        "# 가중치 설정\n",
        "content_weight = 0.6\n",
        "collab_weight = 0.4\n",
        "\n",
        "# 하이브리드 유사도 계산\n",
        "hybrid_similarity = (content_weight * content_similarity_df) + (collab_weight * collab_similarity_df)\n",
        "print(hybrid_similarity)\n"
      ],
      "metadata": {
        "colab": {
          "base_uri": "https://localhost:8080/"
        },
        "id": "jWN1myaRP2Y4",
        "outputId": "adb4c11e-87e4-4b51-e107-f93812196277"
      },
      "execution_count": 6,
      "outputs": [
        {
          "output_type": "stream",
          "name": "stdout",
          "text": [
            "item      고춧가루        무       배추         쌀  천일염\n",
            "item                                           \n",
            "고춧가루  1.000000  0.00000  0.00000  0.282843  NaN\n",
            "무     0.000000  1.00000  0.46953  0.000000  NaN\n",
            "배추    0.000000  0.46953  1.00000  0.200000  NaN\n",
            "쌀     0.282843  0.00000  0.20000  1.000000  NaN\n",
            "천일염        NaN      NaN      NaN       NaN  NaN\n"
          ]
        }
      ]
    },
    {
      "cell_type": "code",
      "source": [
        "def recommend_items(item, hybrid_similarity_matrix, top_n=3):\n",
        "    if item not in hybrid_similarity_matrix.columns:\n",
        "        return []\n",
        "    # 유사도 정렬 후 상위 N개 품목 반환\n",
        "    recommendations = hybrid_similarity_matrix[item].sort_values(ascending=False).index[1:top_n+1].tolist()\n",
        "    return recommendations\n",
        "\n",
        "# '배추'를 구매한 소비자에게 추천\n",
        "recommendations = recommend_items('배추', hybrid_similarity)\n",
        "print(f\"'배추'와 관련된 추천 품목: {recommendations}\")\n"
      ],
      "metadata": {
        "colab": {
          "base_uri": "https://localhost:8080/"
        },
        "id": "k3SEPmB7P2be",
        "outputId": "0155f9a7-b8ec-4bcc-fec1-de2ed9e00948"
      },
      "execution_count": 5,
      "outputs": [
        {
          "output_type": "stream",
          "name": "stdout",
          "text": [
            "'배추'와 관련된 추천 품목: ['무', '쌀', '고춧가루']\n"
          ]
        }
      ]
    }
  ]
}
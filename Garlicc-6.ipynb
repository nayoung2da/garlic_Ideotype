{
 "cells": [
  {
   "cell_type": "code",
   "execution_count": 1,
   "id": "815343ae-e5e7-4ce4-a757-8c469ec6a85c",
   "metadata": {},
   "outputs": [
    {
     "data": {
      "application/vnd.webio.node+json": {
       "children": [],
       "instanceArgs": {
        "namespace": "html",
        "tag": "div"
       },
       "nodeType": "DOM",
       "props": {},
       "type": "node"
      },
      "text/html": [
       "<div style=\"padding: 1em; background-color: #f8d6da; border: 1px solid #f5c6cb; font-weight: bold;\">\n",
       "<p>The WebIO Jupyter extension was not detected. See the\n",
       "<a href=\"https://juliagizmos.github.io/WebIO.jl/latest/providers/ijulia/\" target=\"_blank\">\n",
       "    WebIO Jupyter integration documentation\n",
       "</a>\n",
       "for more information.\n",
       "</div>\n"
      ],
      "text/plain": [
       "WebIO._IJuliaInit()"
      ]
     },
     "metadata": {},
     "output_type": "display_data"
    }
   ],
   "source": [
    "using Cropboxus"
   ]
  },
  {
   "cell_type": "code",
   "execution_count": 39,
   "id": "f4af6814-f941-4b81-9aa3-4b84a4d2007b",
   "metadata": {},
   "outputs": [],
   "source": [
    "using DataFrames\n",
    "using Dates\n",
    "import YAML\n",
    "import Pkg\n",
    "using Random\n",
    "using Plots\n",
    "using CSV\n",
    "using CairoMakie\n",
    "#using Unitful\n",
    "#using TimeZones"
   ]
  },
  {
   "cell_type": "code",
   "execution_count": 3,
   "id": "42595702-04d4-4317-aeab-b6d0d279e130",
   "metadata": {},
   "outputs": [],
   "source": [
    "using Garlic"
   ]
  },
  {
   "cell_type": "code",
   "execution_count": 4,
   "id": "528f7544-9c54-410c-8900-275b0c975c1a",
   "metadata": {},
   "outputs": [
    {
     "data": {
      "text/plain": [
       "simulate_to_dataframe (generic function with 1 method)"
      ]
     },
     "execution_count": 4,
     "metadata": {},
     "output_type": "execute_result"
    }
   ],
   "source": [
    "using DataFrames\n",
    "\n",
    "# 시뮬레이션 결과를 데이터프레임으로 변환하는 함수\n",
    "function simulate_to_dataframe(result)\n",
    "    # 결과를 데이터프레임으로 변환\n",
    "    df = DataFrame(result)\n",
    "    return df\n",
    "end\n"
   ]
  },
  {
   "cell_type": "code",
   "execution_count": 13,
   "id": "6bf6ad22-a602-4296-821e-537fd3d78d4b",
   "metadata": {},
   "outputs": [
    {
     "data": {
      "text/html": [
       "<p style=\"font-family: monospace\">Config for 7 systems:</p>\n",
       "<table style=\"font-family: monospace\">\n",
       "<tr style=\"background-color: transparent\">\n",
       "<td colspan=\"3\" style=\"text-align: left; padding: 2px; padding-left: 20px; color: rebeccapurple\">Phenology</th>\n",
       "</tr>\n",
       "<tr style=\"background-color: transparent\"><td style=\"text-align: left; padding: 2px; padding-left: 40px; color: royalblue\">optimal_temperature</td><td style=\"text-align: center; padding: 2px 10px 2px 10px; color: gray\">=</td><td style=\"text-align: left; padding: 2px;\">22.28</td></tr>\n",
       "<tr style=\"background-color: transparent\"><td style=\"text-align: left; padding: 2px; padding-left: 40px; color: royalblue\">ceiling_temperature</td><td style=\"text-align: center; padding: 2px 10px 2px 10px; color: gray\">=</td><td style=\"text-align: left; padding: 2px;\">34.23</td></tr>\n",
       "<tr style=\"background-color: transparent\"><td style=\"text-align: left; padding: 2px; padding-left: 40px; color: royalblue\">critical_photoperiod</td><td style=\"text-align: center; padding: 2px 10px 2px 10px; color: gray\">=</td><td style=\"text-align: left; padding: 2px;\">12</td></tr>\n",
       "<tr style=\"background-color: transparent\"><td style=\"text-align: left; padding: 2px; padding-left: 40px; color: royalblue\">maximum_leaf_initiation_rate</td><td style=\"text-align: center; padding: 2px 10px 2px 10px; color: gray\">=</td><td style=\"text-align: left; padding: 2px;\">0.1003</td></tr>\n",
       "<tr style=\"background-color: transparent\"><td style=\"text-align: left; padding: 2px; padding-left: 40px; color: royalblue\">storage_temperature</td><td style=\"text-align: center; padding: 2px 10px 2px 10px; color: gray\">=</td><td style=\"text-align: left; padding: 2px;\">8</td></tr>\n",
       "<tr style=\"background-color: transparent\"><td style=\"text-align: left; padding: 2px; padding-left: 40px; color: royalblue\">maximum_phyllochron_asymptote</td><td style=\"text-align: center; padding: 2px 10px 2px 10px; color: gray\">=</td><td style=\"text-align: left; padding: 2px;\">0.4421</td></tr>\n",
       "<tr style=\"background-color: transparent\"><td style=\"text-align: left; padding: 2px; padding-left: 40px; color: royalblue\">leaves_generic</td><td style=\"text-align: center; padding: 2px 10px 2px 10px; color: gray\">=</td><td style=\"text-align: left; padding: 2px;\">10</td></tr>\n",
       "<tr style=\"background-color: transparent\"><td style=\"text-align: left; padding: 2px; padding-left: 40px; color: royalblue\">initial_leaves_at_harvest</td><td style=\"text-align: center; padding: 2px 10px 2px 10px; color: gray\">=</td><td style=\"text-align: left; padding: 2px;\">6</td></tr>\n",
       "<tr style=\"background-color: transparent\"><td style=\"text-align: left; padding: 2px; padding-left: 40px; color: royalblue\">scape_appearance_threshold</td><td style=\"text-align: center; padding: 2px 10px 2px 10px; color: gray\">=</td><td style=\"text-align: left; padding: 2px;\">3.0</td></tr>\n",
       "<tr style=\"background-color: transparent\"><td style=\"text-align: left; padding: 2px; padding-left: 40px; color: royalblue\">planting_date</td><td style=\"text-align: center; padding: 2px 10px 2px 10px; color: gray\">=</td><td style=\"text-align: left; padding: 2px;\">ZonedDateTime&#40;2014, 10, 8, tz&quot;Asia/Seoul&quot;&#41;</td></tr>\n",
       "<tr style=\"background-color: transparent\"><td style=\"text-align: left; padding: 2px; padding-left: 40px; color: royalblue\">scape_removal_date</td><td style=\"text-align: center; padding: 2px 10px 2px 10px; color: gray\">=</td><td style=\"text-align: left; padding: 2px;\">nothing</td></tr>\n",
       "<tr style=\"background-color: transparent\"><td style=\"text-align: left; padding: 2px; padding-left: 40px; color: royalblue\">harvest_date</td><td style=\"text-align: center; padding: 2px 10px 2px 10px; color: gray\">=</td><td style=\"text-align: left; padding: 2px;\">ZonedDateTime&#40;2015, 6, 19, tz&quot;Asia/Seoul&quot;&#41;</td></tr>\n",
       "<tr style=\"background-color: transparent\"><td style=\"text-align: left; padding: 2px; padding-left: 40px; color: royalblue\">storage_days</td><td style=\"text-align: center; padding: 2px 10px 2px 10px; color: gray\">=</td><td style=\"text-align: left; padding: 2px;\">100</td></tr>\n",
       "</table>\n",
       "\n",
       "<table style=\"font-family: monospace\">\n",
       "<tr style=\"background-color: transparent\">\n",
       "<td colspan=\"3\" style=\"text-align: left; padding: 2px; padding-left: 20px; color: rebeccapurple\">Leaf</th>\n",
       "</tr>\n",
       "<tr style=\"background-color: transparent\"><td style=\"text-align: left; padding: 2px; padding-left: 40px; color: royalblue\">maximum_elongation_rate</td><td style=\"text-align: center; padding: 2px 10px 2px 10px; color: gray\">=</td><td style=\"text-align: left; padding: 2px;\">5.0</td></tr>\n",
       "<tr style=\"background-color: transparent\"><td style=\"text-align: left; padding: 2px; padding-left: 40px; color: royalblue\">minimum_length_of_longest_leaf</td><td style=\"text-align: center; padding: 2px 10px 2px 10px; color: gray\">=</td><td style=\"text-align: left; padding: 2px;\">90.0</td></tr>\n",
       "<tr style=\"background-color: transparent\"><td style=\"text-align: left; padding: 2px; padding-left: 40px; color: royalblue\">stay_green</td><td style=\"text-align: center; padding: 2px 10px 2px 10px; color: gray\">=</td><td style=\"text-align: left; padding: 2px;\">1.5</td></tr>\n",
       "</table>\n",
       "\n",
       "<table style=\"font-family: monospace\">\n",
       "<tr style=\"background-color: transparent\">\n",
       "<td colspan=\"3\" style=\"text-align: left; padding: 2px; padding-left: 20px; color: rebeccapurple\">Carbon</th>\n",
       "</tr>\n",
       "<tr style=\"background-color: transparent\"><td style=\"text-align: left; padding: 2px; padding-left: 40px; color: royalblue\">maintenance_respiration_coefficient</td><td style=\"text-align: center; padding: 2px 10px 2px 10px; color: gray\">=</td><td style=\"text-align: left; padding: 2px;\">0.015</td></tr>\n",
       "<tr style=\"background-color: transparent\"><td style=\"text-align: left; padding: 2px; padding-left: 40px; color: royalblue\">synthesis_efficiency</td><td style=\"text-align: center; padding: 2px 10px 2px 10px; color: gray\">=</td><td style=\"text-align: left; padding: 2px;\">0.75</td></tr>\n",
       "<tr style=\"background-color: transparent\"><td style=\"text-align: left; padding: 2px; padding-left: 40px; color: royalblue\">partitioning_table</td><td style=\"text-align: center; padding: 2px 10px 2px 10px; color: gray\">=</td><td style=\"text-align: left; padding: 2px;\">&#91;0.0 0.0 … 0.0 0.0; 0.35 0.3 … 0.0 0.1; … ; 0.05 0.0 … 0.0 0.95; 0.0 0.0 … 0.0 0.0&#93;</td></tr>\n",
       "</table>\n",
       "\n",
       "<table style=\"font-family: monospace\">\n",
       "<tr style=\"background-color: transparent\">\n",
       "<td colspan=\"3\" style=\"text-align: left; padding: 2px; padding-left: 20px; color: rebeccapurple\">Plant</th>\n",
       "</tr>\n",
       "<tr style=\"background-color: transparent\"><td style=\"text-align: left; padding: 2px; padding-left: 40px; color: royalblue\">initial_planting_density</td><td style=\"text-align: center; padding: 2px 10px 2px 10px; color: gray\">=</td><td style=\"text-align: left; padding: 2px;\">55.5</td></tr>\n",
       "</table>\n",
       "\n",
       "<table style=\"font-family: monospace\">\n",
       "<tr style=\"background-color: transparent\">\n",
       "<td colspan=\"3\" style=\"text-align: left; padding: 2px; padding-left: 20px; color: rebeccapurple\">Location</th>\n",
       "</tr>\n",
       "<tr style=\"background-color: transparent\"><td style=\"text-align: left; padding: 2px; padding-left: 40px; color: royalblue\">latitude</td><td style=\"text-align: center; padding: 2px 10px 2px 10px; color: gray\">=</td><td style=\"text-align: left; padding: 2px;\">33.4684</td></tr>\n",
       "<tr style=\"background-color: transparent\"><td style=\"text-align: left; padding: 2px; padding-left: 40px; color: royalblue\">longitude</td><td style=\"text-align: center; padding: 2px 10px 2px 10px; color: gray\">=</td><td style=\"text-align: left; padding: 2px;\">126.518</td></tr>\n",
       "</table>\n",
       "\n",
       "<table style=\"font-family: monospace\">\n",
       "<tr style=\"background-color: transparent\">\n",
       "<td colspan=\"3\" style=\"text-align: left; padding: 2px; padding-left: 20px; color: rebeccapurple\">Weather</th>\n",
       "</tr>\n",
       "<tr style=\"background-color: transparent\"><td style=\"text-align: left; padding: 2px; padding-left: 40px; color: royalblue\">store</td><td style=\"text-align: center; padding: 2px 10px 2px 10px; color: gray\">=</td><td style=\"text-align: left; padding: 2px;\">8760×10 DataFrame…</td></tr>\n",
       "</table>\n",
       "\n",
       "<table style=\"font-family: monospace\">\n",
       "<tr style=\"background-color: transparent\">\n",
       "<td colspan=\"3\" style=\"text-align: left; padding: 2px; padding-left: 20px; color: rebeccapurple\">Calendar</th>\n",
       "</tr>\n",
       "<tr style=\"background-color: transparent\"><td style=\"text-align: left; padding: 2px; padding-left: 40px; color: royalblue\">init</td><td style=\"text-align: center; padding: 2px 10px 2px 10px; color: gray\">=</td><td style=\"text-align: left; padding: 2px;\">ZonedDateTime&#40;2014, 10, 1, tz&quot;Asia/Seoul&quot;&#41;</td></tr>\n",
       "<tr style=\"background-color: transparent\"><td style=\"text-align: left; padding: 2px; padding-left: 40px; color: royalblue\">last</td><td style=\"text-align: center; padding: 2px 10px 2px 10px; color: gray\">=</td><td style=\"text-align: left; padding: 2px;\">ZonedDateTime&#40;2015, 6, 30, tz&quot;Asia/Seoul&quot;&#41;</td></tr>\n",
       "</table>\n"
      ],
      "text/plain": [
       "Config for 7 systems:\n",
       "  \u001b[95mPhenology\u001b[39m\n",
       "    \u001b[94moptimal_temperature          \u001b[39m\u001b[90m = \u001b[39m22.28\n",
       "    \u001b[94mceiling_temperature          \u001b[39m\u001b[90m = \u001b[39m34.23\n",
       "    \u001b[94mcritical_photoperiod         \u001b[39m\u001b[90m = \u001b[39m12\n",
       "    \u001b[94mmaximum_leaf_initiation_rate \u001b[39m\u001b[90m = \u001b[39m0.1003\n",
       "    \u001b[94mstorage_temperature          \u001b[39m\u001b[90m = \u001b[39m8\n",
       "    \u001b[94mmaximum_phyllochron_asymptote\u001b[39m\u001b[90m = \u001b[39m0.4421\n",
       "    \u001b[94mleaves_generic               \u001b[39m\u001b[90m = \u001b[39m10\n",
       "    \u001b[94minitial_leaves_at_harvest    \u001b[39m\u001b[90m = \u001b[39m6\n",
       "    \u001b[94mscape_appearance_threshold   \u001b[39m\u001b[90m = \u001b[39m3.0\n",
       "    \u001b[94mplanting_date                \u001b[39m\u001b[90m = \u001b[39mZonedDateTime(2014, 10, 8, tz\"Asia/Seoul\")\n",
       "    \u001b[94mscape_removal_date           \u001b[39m\u001b[90m = \u001b[39mnothing\n",
       "    \u001b[94mharvest_date                 \u001b[39m\u001b[90m = \u001b[39mZonedDateTime(2015, 6, 19, tz\"Asia/Seoul\")\n",
       "    \u001b[94mstorage_days                 \u001b[39m\u001b[90m = \u001b[39m100\n",
       "  \u001b[95mLeaf\u001b[39m\n",
       "    \u001b[94mmaximum_elongation_rate       \u001b[39m\u001b[90m = \u001b[39m5.0\n",
       "    \u001b[94mminimum_length_of_longest_leaf\u001b[39m\u001b[90m = \u001b[39m90.0\n",
       "    \u001b[94mstay_green                    \u001b[39m\u001b[90m = \u001b[39m1.5\n",
       "  \u001b[95mCarbon\u001b[39m\n",
       "    \u001b[94mmaintenance_respiration_coefficient\u001b[39m\u001b[90m = \u001b[39m0.015\n",
       "    \u001b[94msynthesis_efficiency               \u001b[39m\u001b[90m = \u001b[39m0.75\n",
       "    \u001b[94mpartitioning_table                 \u001b[39m\u001b[90m = \u001b[39m[0.0 0.0 … 0.0 0.0; 0.35 0.3 … 0.0 0.1; … ; 0.05 0.0 … 0.0 0.95; 0.0 0.0 … 0.0 0.0]\n",
       "  \u001b[95mPlant\u001b[39m\n",
       "    \u001b[94minitial_planting_density\u001b[39m\u001b[90m = \u001b[39m55.5\n",
       "  \u001b[95mLocation\u001b[39m\n",
       "    \u001b[94mlatitude \u001b[39m\u001b[90m = \u001b[39m33.4684\n",
       "    \u001b[94mlongitude\u001b[39m\u001b[90m = \u001b[39m126.518\n",
       "  \u001b[95mWeather\u001b[39m\n",
       "    \u001b[94mstore\u001b[39m\u001b[90m = \u001b[39m8760×10 DataFrame…\n",
       "  \u001b[95mCalendar\u001b[39m\n",
       "    \u001b[94minit\u001b[39m\u001b[90m = \u001b[39mZonedDateTime(2014, 10, 1, tz\"Asia/Seoul\")\n",
       "    \u001b[94mlast\u001b[39m\u001b[90m = \u001b[39mZonedDateTime(2015, 6, 30, tz\"Asia/Seoul\")"
      ]
     },
     "execution_count": 13,
     "metadata": {},
     "output_type": "execute_result"
    }
   ],
   "source": [
    "base_config = Garlic.Examples.RCP.ND_RICCA_2014_field"
   ]
  },
  {
   "cell_type": "code",
   "execution_count": 91,
   "id": "8fe0e481-3507-47cf-9835-c0bed416177a",
   "metadata": {},
   "outputs": [
    {
     "data": {
      "text/plain": [
       "4-element Vector{Config}:\n",
       " <Config>\n",
       " <Config>\n",
       " <Config>\n",
       " <Config>"
      ]
     },
     "execution_count": 91,
     "metadata": {},
     "output_type": "execute_result"
    }
   ],
   "source": [
    "#저장온도 config\n",
    "storage_tem_configs = @config base_config + !(:Phenology => :storage_temperature => 5:5:20)"
   ]
  },
  {
   "cell_type": "code",
   "execution_count": 93,
   "id": "41f2bbe1-9566-437c-a1cc-fe8de6a6841d",
   "metadata": {},
   "outputs": [
    {
     "data": {
      "text/plain": [
       "15-element Vector{Config}:\n",
       " <Config>\n",
       " <Config>\n",
       " <Config>\n",
       " <Config>\n",
       " <Config>\n",
       " <Config>\n",
       " <Config>\n",
       " <Config>\n",
       " <Config>\n",
       " <Config>\n",
       " <Config>\n",
       " <Config>\n",
       " <Config>\n",
       " <Config>\n",
       " <Config>"
      ]
     },
     "execution_count": 93,
     "metadata": {},
     "output_type": "execute_result"
    }
   ],
   "source": [
    "#저장기간 config\n",
    "storage_days_configs = @config base_config + !(:Phenology => :storage_days => 80:5:150)"
   ]
  },
  {
   "cell_type": "code",
   "execution_count": 95,
   "id": "02f671ed-056c-4b8e-ac8e-8ad7861e6bc0",
   "metadata": {
    "scrolled": true
   },
   "outputs": [
    {
     "name": "stderr",
     "output_type": "stream",
     "text": [
      "\u001b[32mProgress: 100%[=========================================] Time: 0:00:19\u001b[39m\n"
     ]
    },
    {
     "data": {
      "text/html": [
       "<div><div style = \"float: left;\"><span>26116×3 DataFrame</span></div><div style = \"float: right;\"><span style = \"font-style: italic;\">26091 rows omitted</span></div><div style = \"clear: both;\"></div></div><div class = \"data-frame\" style = \"overflow-x: scroll;\"><table class = \"data-frame\" style = \"margin-bottom: 6px;\"><thead><tr class = \"header\"><th class = \"rowNumber\" style = \"font-weight: bold; text-align: right;\">Row</th><th style = \"text-align: left;\">time</th><th style = \"text-align: left;\">phenology.storage_temperature</th><th style = \"text-align: left;\">dry_yield</th></tr><tr class = \"subheader headerLastRow\"><th class = \"rowNumber\" style = \"font-weight: bold; text-align: right;\"></th><th title = \"ZonedDateTime\" style = \"text-align: left;\">ZonedDat…</th><th title = \"Unitful.Quantity{Float64, 𝚯, Unitful.FreeUnits{(K,), 𝚯, Unitful.Affine{-5463//20}}}\" style = \"text-align: left;\">Quantity…</th><th title = \"Unitful.Quantity{Float64, 𝐌 𝐋⁻², Unitful.FreeUnits{(g, m⁻²), 𝐌 𝐋⁻², nothing}}\" style = \"text-align: left;\">Quantity…</th></tr></thead><tbody><tr><td class = \"rowNumber\" style = \"font-weight: bold; text-align: right;\">1</td><td style = \"text-align: left;\">2014-10-01T00:00:00+09:00</td><td style = \"text-align: right;\">5.0 °C</td><td style = \"text-align: right;\">0.0 g m⁻²</td></tr><tr><td class = \"rowNumber\" style = \"font-weight: bold; text-align: right;\">2</td><td style = \"text-align: left;\">2014-10-01T01:00:00+09:00</td><td style = \"text-align: right;\">5.0 °C</td><td style = \"text-align: right;\">0.0634804 g m⁻²</td></tr><tr><td class = \"rowNumber\" style = \"font-weight: bold; text-align: right;\">3</td><td style = \"text-align: left;\">2014-10-01T02:00:00+09:00</td><td style = \"text-align: right;\">5.0 °C</td><td style = \"text-align: right;\">0.126607 g m⁻²</td></tr><tr><td class = \"rowNumber\" style = \"font-weight: bold; text-align: right;\">4</td><td style = \"text-align: left;\">2014-10-01T03:00:00+09:00</td><td style = \"text-align: right;\">5.0 °C</td><td style = \"text-align: right;\">0.189471 g m⁻²</td></tr><tr><td class = \"rowNumber\" style = \"font-weight: bold; text-align: right;\">5</td><td style = \"text-align: left;\">2014-10-01T04:00:00+09:00</td><td style = \"text-align: right;\">5.0 °C</td><td style = \"text-align: right;\">0.252121 g m⁻²</td></tr><tr><td class = \"rowNumber\" style = \"font-weight: bold; text-align: right;\">6</td><td style = \"text-align: left;\">2014-10-01T05:00:00+09:00</td><td style = \"text-align: right;\">5.0 °C</td><td style = \"text-align: right;\">0.314132 g m⁻²</td></tr><tr><td class = \"rowNumber\" style = \"font-weight: bold; text-align: right;\">7</td><td style = \"text-align: left;\">2014-10-01T06:00:00+09:00</td><td style = \"text-align: right;\">5.0 °C</td><td style = \"text-align: right;\">0.375614 g m⁻²</td></tr><tr><td class = \"rowNumber\" style = \"font-weight: bold; text-align: right;\">8</td><td style = \"text-align: left;\">2014-10-01T07:00:00+09:00</td><td style = \"text-align: right;\">5.0 °C</td><td style = \"text-align: right;\">0.436742 g m⁻²</td></tr><tr><td class = \"rowNumber\" style = \"font-weight: bold; text-align: right;\">9</td><td style = \"text-align: left;\">2014-10-01T08:00:00+09:00</td><td style = \"text-align: right;\">5.0 °C</td><td style = \"text-align: right;\">0.497817 g m⁻²</td></tr><tr><td class = \"rowNumber\" style = \"font-weight: bold; text-align: right;\">10</td><td style = \"text-align: left;\">2014-10-01T09:00:00+09:00</td><td style = \"text-align: right;\">5.0 °C</td><td style = \"text-align: right;\">0.559026 g m⁻²</td></tr><tr><td class = \"rowNumber\" style = \"font-weight: bold; text-align: right;\">11</td><td style = \"text-align: left;\">2014-10-01T10:00:00+09:00</td><td style = \"text-align: right;\">5.0 °C</td><td style = \"text-align: right;\">0.620117 g m⁻²</td></tr><tr><td class = \"rowNumber\" style = \"font-weight: bold; text-align: right;\">12</td><td style = \"text-align: left;\">2014-10-01T11:00:00+09:00</td><td style = \"text-align: right;\">5.0 °C</td><td style = \"text-align: right;\">0.680901 g m⁻²</td></tr><tr><td class = \"rowNumber\" style = \"font-weight: bold; text-align: right;\">13</td><td style = \"text-align: left;\">2014-10-01T12:00:00+09:00</td><td style = \"text-align: right;\">5.0 °C</td><td style = \"text-align: right;\">0.741069 g m⁻²</td></tr><tr><td style = \"text-align: right;\">&vellip;</td><td style = \"text-align: right;\">&vellip;</td><td style = \"text-align: right;\">&vellip;</td><td style = \"text-align: right;\">&vellip;</td></tr><tr><td class = \"rowNumber\" style = \"font-weight: bold; text-align: right;\">26105</td><td style = \"text-align: left;\">2015-06-29T13:00:00+09:00</td><td style = \"text-align: right;\">20.0 °C</td><td style = \"text-align: right;\">1300.99 g m⁻²</td></tr><tr><td class = \"rowNumber\" style = \"font-weight: bold; text-align: right;\">26106</td><td style = \"text-align: left;\">2015-06-29T14:00:00+09:00</td><td style = \"text-align: right;\">20.0 °C</td><td style = \"text-align: right;\">1305.19 g m⁻²</td></tr><tr><td class = \"rowNumber\" style = \"font-weight: bold; text-align: right;\">26107</td><td style = \"text-align: left;\">2015-06-29T15:00:00+09:00</td><td style = \"text-align: right;\">20.0 °C</td><td style = \"text-align: right;\">1307.79 g m⁻²</td></tr><tr><td class = \"rowNumber\" style = \"font-weight: bold; text-align: right;\">26108</td><td style = \"text-align: left;\">2015-06-29T16:00:00+09:00</td><td style = \"text-align: right;\">20.0 °C</td><td style = \"text-align: right;\">1309.54 g m⁻²</td></tr><tr><td class = \"rowNumber\" style = \"font-weight: bold; text-align: right;\">26109</td><td style = \"text-align: left;\">2015-06-29T17:00:00+09:00</td><td style = \"text-align: right;\">20.0 °C</td><td style = \"text-align: right;\">1311.3 g m⁻²</td></tr><tr><td class = \"rowNumber\" style = \"font-weight: bold; text-align: right;\">26110</td><td style = \"text-align: left;\">2015-06-29T18:00:00+09:00</td><td style = \"text-align: right;\">20.0 °C</td><td style = \"text-align: right;\">1312.58 g m⁻²</td></tr><tr><td class = \"rowNumber\" style = \"font-weight: bold; text-align: right;\">26111</td><td style = \"text-align: left;\">2015-06-29T19:00:00+09:00</td><td style = \"text-align: right;\">20.0 °C</td><td style = \"text-align: right;\">1313.93 g m⁻²</td></tr><tr><td class = \"rowNumber\" style = \"font-weight: bold; text-align: right;\">26112</td><td style = \"text-align: left;\">2015-06-29T20:00:00+09:00</td><td style = \"text-align: right;\">20.0 °C</td><td style = \"text-align: right;\">1313.31 g m⁻²</td></tr><tr><td class = \"rowNumber\" style = \"font-weight: bold; text-align: right;\">26113</td><td style = \"text-align: left;\">2015-06-29T21:00:00+09:00</td><td style = \"text-align: right;\">20.0 °C</td><td style = \"text-align: right;\">1310.74 g m⁻²</td></tr><tr><td class = \"rowNumber\" style = \"font-weight: bold; text-align: right;\">26114</td><td style = \"text-align: left;\">2015-06-29T22:00:00+09:00</td><td style = \"text-align: right;\">20.0 °C</td><td style = \"text-align: right;\">1308.39 g m⁻²</td></tr><tr><td class = \"rowNumber\" style = \"font-weight: bold; text-align: right;\">26115</td><td style = \"text-align: left;\">2015-06-29T23:00:00+09:00</td><td style = \"text-align: right;\">20.0 °C</td><td style = \"text-align: right;\">1306.43 g m⁻²</td></tr><tr><td class = \"rowNumber\" style = \"font-weight: bold; text-align: right;\">26116</td><td style = \"text-align: left;\">2015-06-30T00:00:00+09:00</td><td style = \"text-align: right;\">20.0 °C</td><td style = \"text-align: right;\">1304.79 g m⁻²</td></tr></tbody></table></div>"
      ],
      "text/latex": [
       "\\begin{tabular}{r|ccc}\n",
       "\t& time & phenology.storage\\_temperature & dry\\_yield\\\\\n",
       "\t\\hline\n",
       "\t& ZonedDat… & Quantity… & Quantity…\\\\\n",
       "\t\\hline\n",
       "\t1 & 2014-10-01T00:00:00+09:00 & 5.0 °C & 0.0 g m⁻² \\\\\n",
       "\t2 & 2014-10-01T01:00:00+09:00 & 5.0 °C & 0.0634804 g m⁻² \\\\\n",
       "\t3 & 2014-10-01T02:00:00+09:00 & 5.0 °C & 0.126607 g m⁻² \\\\\n",
       "\t4 & 2014-10-01T03:00:00+09:00 & 5.0 °C & 0.189471 g m⁻² \\\\\n",
       "\t5 & 2014-10-01T04:00:00+09:00 & 5.0 °C & 0.252121 g m⁻² \\\\\n",
       "\t6 & 2014-10-01T05:00:00+09:00 & 5.0 °C & 0.314132 g m⁻² \\\\\n",
       "\t7 & 2014-10-01T06:00:00+09:00 & 5.0 °C & 0.375614 g m⁻² \\\\\n",
       "\t8 & 2014-10-01T07:00:00+09:00 & 5.0 °C & 0.436742 g m⁻² \\\\\n",
       "\t9 & 2014-10-01T08:00:00+09:00 & 5.0 °C & 0.497817 g m⁻² \\\\\n",
       "\t10 & 2014-10-01T09:00:00+09:00 & 5.0 °C & 0.559026 g m⁻² \\\\\n",
       "\t11 & 2014-10-01T10:00:00+09:00 & 5.0 °C & 0.620117 g m⁻² \\\\\n",
       "\t12 & 2014-10-01T11:00:00+09:00 & 5.0 °C & 0.680901 g m⁻² \\\\\n",
       "\t13 & 2014-10-01T12:00:00+09:00 & 5.0 °C & 0.741069 g m⁻² \\\\\n",
       "\t14 & 2014-10-01T13:00:00+09:00 & 5.0 °C & 0.800794 g m⁻² \\\\\n",
       "\t15 & 2014-10-01T14:00:00+09:00 & 5.0 °C & 0.860165 g m⁻² \\\\\n",
       "\t16 & 2014-10-01T15:00:00+09:00 & 5.0 °C & 0.919399 g m⁻² \\\\\n",
       "\t17 & 2014-10-01T16:00:00+09:00 & 5.0 °C & 0.978583 g m⁻² \\\\\n",
       "\t18 & 2014-10-01T17:00:00+09:00 & 5.0 °C & 1.03733 g m⁻² \\\\\n",
       "\t19 & 2014-10-01T18:00:00+09:00 & 5.0 °C & 1.09611 g m⁻² \\\\\n",
       "\t20 & 2014-10-01T19:00:00+09:00 & 5.0 °C & 1.15511 g m⁻² \\\\\n",
       "\t21 & 2014-10-01T20:00:00+09:00 & 5.0 °C & 1.21382 g m⁻² \\\\\n",
       "\t22 & 2014-10-01T21:00:00+09:00 & 5.0 °C & 1.27199 g m⁻² \\\\\n",
       "\t23 & 2014-10-01T22:00:00+09:00 & 5.0 °C & 1.32971 g m⁻² \\\\\n",
       "\t24 & 2014-10-01T23:00:00+09:00 & 5.0 °C & 1.38727 g m⁻² \\\\\n",
       "\t25 & 2014-10-02T00:00:00+09:00 & 5.0 °C & 1.44466 g m⁻² \\\\\n",
       "\t26 & 2014-10-02T01:00:00+09:00 & 5.0 °C & 1.50182 g m⁻² \\\\\n",
       "\t27 & 2014-10-02T02:00:00+09:00 & 5.0 °C & 1.55874 g m⁻² \\\\\n",
       "\t28 & 2014-10-02T03:00:00+09:00 & 5.0 °C & 1.61543 g m⁻² \\\\\n",
       "\t29 & 2014-10-02T04:00:00+09:00 & 5.0 °C & 1.67146 g m⁻² \\\\\n",
       "\t30 & 2014-10-02T05:00:00+09:00 & 5.0 °C & 1.72727 g m⁻² \\\\\n",
       "\t$\\dots$ & $\\dots$ & $\\dots$ & $\\dots$ \\\\\n",
       "\\end{tabular}\n"
      ],
      "text/plain": [
       "\u001b[1m26116×3 DataFrame\u001b[0m\n",
       "\u001b[1m   Row \u001b[0m│\u001b[1m time                      \u001b[0m\u001b[1m phenology.storage_temperature \u001b[0m\u001b[1m dry_yield  \u001b[0m ⋯\n",
       "       │\u001b[90m ZonedDat…                 \u001b[0m\u001b[90m Quantity…                     \u001b[0m\u001b[90m Quantity…  \u001b[0m ⋯\n",
       "───────┼────────────────────────────────────────────────────────────────────────\n",
       "     1 │ 2014-10-01T00:00:00+09:00                         5.0 °C        0.0 g ⋯\n",
       "     2 │ 2014-10-01T01:00:00+09:00                         5.0 °C  0.0634804 g\n",
       "     3 │ 2014-10-01T02:00:00+09:00                         5.0 °C   0.126607 g\n",
       "     4 │ 2014-10-01T03:00:00+09:00                         5.0 °C   0.189471 g\n",
       "     5 │ 2014-10-01T04:00:00+09:00                         5.0 °C   0.252121 g ⋯\n",
       "     6 │ 2014-10-01T05:00:00+09:00                         5.0 °C   0.314132 g\n",
       "     7 │ 2014-10-01T06:00:00+09:00                         5.0 °C   0.375614 g\n",
       "     8 │ 2014-10-01T07:00:00+09:00                         5.0 °C   0.436742 g\n",
       "     9 │ 2014-10-01T08:00:00+09:00                         5.0 °C   0.497817 g ⋯\n",
       "    10 │ 2014-10-01T09:00:00+09:00                         5.0 °C   0.559026 g\n",
       "    11 │ 2014-10-01T10:00:00+09:00                         5.0 °C   0.620117 g\n",
       "   ⋮   │             ⋮                            ⋮                       ⋮    ⋱\n",
       " 26107 │ 2015-06-29T15:00:00+09:00                        20.0 °C    1307.79 g\n",
       " 26108 │ 2015-06-29T16:00:00+09:00                        20.0 °C    1309.54 g ⋯\n",
       " 26109 │ 2015-06-29T17:00:00+09:00                        20.0 °C     1311.3 g\n",
       " 26110 │ 2015-06-29T18:00:00+09:00                        20.0 °C    1312.58 g\n",
       " 26111 │ 2015-06-29T19:00:00+09:00                        20.0 °C    1313.93 g\n",
       " 26112 │ 2015-06-29T20:00:00+09:00                        20.0 °C    1313.31 g ⋯\n",
       " 26113 │ 2015-06-29T21:00:00+09:00                        20.0 °C    1310.74 g\n",
       " 26114 │ 2015-06-29T22:00:00+09:00                        20.0 °C    1308.39 g\n",
       " 26115 │ 2015-06-29T23:00:00+09:00                        20.0 °C    1306.43 g\n",
       " 26116 │ 2015-06-30T00:00:00+09:00                        20.0 °C    1304.79 g ⋯\n",
       "\u001b[36m                                                 1 column and 26095 rows omitted\u001b[0m"
      ]
     },
     "execution_count": 95,
     "metadata": {},
     "output_type": "execute_result"
    }
   ],
   "source": [
    "#저장온도에 따른 시뮬레이션\n",
    "tem_sim_result = simulate(Garlic.Model; configs = storage_tem_configs, index = \"time\",target = [\"phenology.storage_temperature\", \"dry_yield\"], stop = \"calendar.count\")"
   ]
  },
  {
   "cell_type": "code",
   "execution_count": 96,
   "id": "da846c1f-5fe8-4252-8fa1-ed960d7950f3",
   "metadata": {},
   "outputs": [
    {
     "name": "stderr",
     "output_type": "stream",
     "text": [
      "\u001b[32mProgress: 100%[=========================================] Time: 0:01:10\u001b[39m\n"
     ]
    },
    {
     "data": {
      "text/html": [
       "<div><div style = \"float: left;\"><span>97935×3 DataFrame</span></div><div style = \"float: right;\"><span style = \"font-style: italic;\">97910 rows omitted</span></div><div style = \"clear: both;\"></div></div><div class = \"data-frame\" style = \"overflow-x: scroll;\"><table class = \"data-frame\" style = \"margin-bottom: 6px;\"><thead><tr class = \"header\"><th class = \"rowNumber\" style = \"font-weight: bold; text-align: right;\">Row</th><th style = \"text-align: left;\">time</th><th style = \"text-align: left;\">phenology.storage_days</th><th style = \"text-align: left;\">dry_yield</th></tr><tr class = \"subheader headerLastRow\"><th class = \"rowNumber\" style = \"font-weight: bold; text-align: right;\"></th><th title = \"ZonedDateTime\" style = \"text-align: left;\">ZonedDat…</th><th title = \"Unitful.Quantity{Float64, 𝐓, Unitful.FreeUnits{(d,), 𝐓, nothing}}\" style = \"text-align: left;\">Quantity…</th><th title = \"Unitful.Quantity{Float64, 𝐌 𝐋⁻², Unitful.FreeUnits{(g, m⁻²), 𝐌 𝐋⁻², nothing}}\" style = \"text-align: left;\">Quantity…</th></tr></thead><tbody><tr><td class = \"rowNumber\" style = \"font-weight: bold; text-align: right;\">1</td><td style = \"text-align: left;\">2014-10-01T00:00:00+09:00</td><td style = \"text-align: right;\">80.0 d</td><td style = \"text-align: right;\">0.0 g m⁻²</td></tr><tr><td class = \"rowNumber\" style = \"font-weight: bold; text-align: right;\">2</td><td style = \"text-align: left;\">2014-10-01T01:00:00+09:00</td><td style = \"text-align: right;\">80.0 d</td><td style = \"text-align: right;\">0.0634804 g m⁻²</td></tr><tr><td class = \"rowNumber\" style = \"font-weight: bold; text-align: right;\">3</td><td style = \"text-align: left;\">2014-10-01T02:00:00+09:00</td><td style = \"text-align: right;\">80.0 d</td><td style = \"text-align: right;\">0.126607 g m⁻²</td></tr><tr><td class = \"rowNumber\" style = \"font-weight: bold; text-align: right;\">4</td><td style = \"text-align: left;\">2014-10-01T03:00:00+09:00</td><td style = \"text-align: right;\">80.0 d</td><td style = \"text-align: right;\">0.189471 g m⁻²</td></tr><tr><td class = \"rowNumber\" style = \"font-weight: bold; text-align: right;\">5</td><td style = \"text-align: left;\">2014-10-01T04:00:00+09:00</td><td style = \"text-align: right;\">80.0 d</td><td style = \"text-align: right;\">0.252121 g m⁻²</td></tr><tr><td class = \"rowNumber\" style = \"font-weight: bold; text-align: right;\">6</td><td style = \"text-align: left;\">2014-10-01T05:00:00+09:00</td><td style = \"text-align: right;\">80.0 d</td><td style = \"text-align: right;\">0.314132 g m⁻²</td></tr><tr><td class = \"rowNumber\" style = \"font-weight: bold; text-align: right;\">7</td><td style = \"text-align: left;\">2014-10-01T06:00:00+09:00</td><td style = \"text-align: right;\">80.0 d</td><td style = \"text-align: right;\">0.375614 g m⁻²</td></tr><tr><td class = \"rowNumber\" style = \"font-weight: bold; text-align: right;\">8</td><td style = \"text-align: left;\">2014-10-01T07:00:00+09:00</td><td style = \"text-align: right;\">80.0 d</td><td style = \"text-align: right;\">0.436742 g m⁻²</td></tr><tr><td class = \"rowNumber\" style = \"font-weight: bold; text-align: right;\">9</td><td style = \"text-align: left;\">2014-10-01T08:00:00+09:00</td><td style = \"text-align: right;\">80.0 d</td><td style = \"text-align: right;\">0.497817 g m⁻²</td></tr><tr><td class = \"rowNumber\" style = \"font-weight: bold; text-align: right;\">10</td><td style = \"text-align: left;\">2014-10-01T09:00:00+09:00</td><td style = \"text-align: right;\">80.0 d</td><td style = \"text-align: right;\">0.559026 g m⁻²</td></tr><tr><td class = \"rowNumber\" style = \"font-weight: bold; text-align: right;\">11</td><td style = \"text-align: left;\">2014-10-01T10:00:00+09:00</td><td style = \"text-align: right;\">80.0 d</td><td style = \"text-align: right;\">0.620117 g m⁻²</td></tr><tr><td class = \"rowNumber\" style = \"font-weight: bold; text-align: right;\">12</td><td style = \"text-align: left;\">2014-10-01T11:00:00+09:00</td><td style = \"text-align: right;\">80.0 d</td><td style = \"text-align: right;\">0.680901 g m⁻²</td></tr><tr><td class = \"rowNumber\" style = \"font-weight: bold; text-align: right;\">13</td><td style = \"text-align: left;\">2014-10-01T12:00:00+09:00</td><td style = \"text-align: right;\">80.0 d</td><td style = \"text-align: right;\">0.741069 g m⁻²</td></tr><tr><td style = \"text-align: right;\">&vellip;</td><td style = \"text-align: right;\">&vellip;</td><td style = \"text-align: right;\">&vellip;</td><td style = \"text-align: right;\">&vellip;</td></tr><tr><td class = \"rowNumber\" style = \"font-weight: bold; text-align: right;\">97924</td><td style = \"text-align: left;\">2015-06-29T13:00:00+09:00</td><td style = \"text-align: right;\">150.0 d</td><td style = \"text-align: right;\">1098.28 g m⁻²</td></tr><tr><td class = \"rowNumber\" style = \"font-weight: bold; text-align: right;\">97925</td><td style = \"text-align: left;\">2015-06-29T14:00:00+09:00</td><td style = \"text-align: right;\">150.0 d</td><td style = \"text-align: right;\">1098.28 g m⁻²</td></tr><tr><td class = \"rowNumber\" style = \"font-weight: bold; text-align: right;\">97926</td><td style = \"text-align: left;\">2015-06-29T15:00:00+09:00</td><td style = \"text-align: right;\">150.0 d</td><td style = \"text-align: right;\">1098.28 g m⁻²</td></tr><tr><td class = \"rowNumber\" style = \"font-weight: bold; text-align: right;\">97927</td><td style = \"text-align: left;\">2015-06-29T16:00:00+09:00</td><td style = \"text-align: right;\">150.0 d</td><td style = \"text-align: right;\">1098.28 g m⁻²</td></tr><tr><td class = \"rowNumber\" style = \"font-weight: bold; text-align: right;\">97928</td><td style = \"text-align: left;\">2015-06-29T17:00:00+09:00</td><td style = \"text-align: right;\">150.0 d</td><td style = \"text-align: right;\">1098.28 g m⁻²</td></tr><tr><td class = \"rowNumber\" style = \"font-weight: bold; text-align: right;\">97929</td><td style = \"text-align: left;\">2015-06-29T18:00:00+09:00</td><td style = \"text-align: right;\">150.0 d</td><td style = \"text-align: right;\">1098.28 g m⁻²</td></tr><tr><td class = \"rowNumber\" style = \"font-weight: bold; text-align: right;\">97930</td><td style = \"text-align: left;\">2015-06-29T19:00:00+09:00</td><td style = \"text-align: right;\">150.0 d</td><td style = \"text-align: right;\">1098.28 g m⁻²</td></tr><tr><td class = \"rowNumber\" style = \"font-weight: bold; text-align: right;\">97931</td><td style = \"text-align: left;\">2015-06-29T20:00:00+09:00</td><td style = \"text-align: right;\">150.0 d</td><td style = \"text-align: right;\">1098.28 g m⁻²</td></tr><tr><td class = \"rowNumber\" style = \"font-weight: bold; text-align: right;\">97932</td><td style = \"text-align: left;\">2015-06-29T21:00:00+09:00</td><td style = \"text-align: right;\">150.0 d</td><td style = \"text-align: right;\">1098.28 g m⁻²</td></tr><tr><td class = \"rowNumber\" style = \"font-weight: bold; text-align: right;\">97933</td><td style = \"text-align: left;\">2015-06-29T22:00:00+09:00</td><td style = \"text-align: right;\">150.0 d</td><td style = \"text-align: right;\">1098.28 g m⁻²</td></tr><tr><td class = \"rowNumber\" style = \"font-weight: bold; text-align: right;\">97934</td><td style = \"text-align: left;\">2015-06-29T23:00:00+09:00</td><td style = \"text-align: right;\">150.0 d</td><td style = \"text-align: right;\">1098.28 g m⁻²</td></tr><tr><td class = \"rowNumber\" style = \"font-weight: bold; text-align: right;\">97935</td><td style = \"text-align: left;\">2015-06-30T00:00:00+09:00</td><td style = \"text-align: right;\">150.0 d</td><td style = \"text-align: right;\">1098.28 g m⁻²</td></tr></tbody></table></div>"
      ],
      "text/latex": [
       "\\begin{tabular}{r|ccc}\n",
       "\t& time & phenology.storage\\_days & dry\\_yield\\\\\n",
       "\t\\hline\n",
       "\t& ZonedDat… & Quantity… & Quantity…\\\\\n",
       "\t\\hline\n",
       "\t1 & 2014-10-01T00:00:00+09:00 & 80.0 d & 0.0 g m⁻² \\\\\n",
       "\t2 & 2014-10-01T01:00:00+09:00 & 80.0 d & 0.0634804 g m⁻² \\\\\n",
       "\t3 & 2014-10-01T02:00:00+09:00 & 80.0 d & 0.126607 g m⁻² \\\\\n",
       "\t4 & 2014-10-01T03:00:00+09:00 & 80.0 d & 0.189471 g m⁻² \\\\\n",
       "\t5 & 2014-10-01T04:00:00+09:00 & 80.0 d & 0.252121 g m⁻² \\\\\n",
       "\t6 & 2014-10-01T05:00:00+09:00 & 80.0 d & 0.314132 g m⁻² \\\\\n",
       "\t7 & 2014-10-01T06:00:00+09:00 & 80.0 d & 0.375614 g m⁻² \\\\\n",
       "\t8 & 2014-10-01T07:00:00+09:00 & 80.0 d & 0.436742 g m⁻² \\\\\n",
       "\t9 & 2014-10-01T08:00:00+09:00 & 80.0 d & 0.497817 g m⁻² \\\\\n",
       "\t10 & 2014-10-01T09:00:00+09:00 & 80.0 d & 0.559026 g m⁻² \\\\\n",
       "\t11 & 2014-10-01T10:00:00+09:00 & 80.0 d & 0.620117 g m⁻² \\\\\n",
       "\t12 & 2014-10-01T11:00:00+09:00 & 80.0 d & 0.680901 g m⁻² \\\\\n",
       "\t13 & 2014-10-01T12:00:00+09:00 & 80.0 d & 0.741069 g m⁻² \\\\\n",
       "\t14 & 2014-10-01T13:00:00+09:00 & 80.0 d & 0.800794 g m⁻² \\\\\n",
       "\t15 & 2014-10-01T14:00:00+09:00 & 80.0 d & 0.860165 g m⁻² \\\\\n",
       "\t16 & 2014-10-01T15:00:00+09:00 & 80.0 d & 0.919399 g m⁻² \\\\\n",
       "\t17 & 2014-10-01T16:00:00+09:00 & 80.0 d & 0.978583 g m⁻² \\\\\n",
       "\t18 & 2014-10-01T17:00:00+09:00 & 80.0 d & 1.03733 g m⁻² \\\\\n",
       "\t19 & 2014-10-01T18:00:00+09:00 & 80.0 d & 1.09611 g m⁻² \\\\\n",
       "\t20 & 2014-10-01T19:00:00+09:00 & 80.0 d & 1.15511 g m⁻² \\\\\n",
       "\t21 & 2014-10-01T20:00:00+09:00 & 80.0 d & 1.21382 g m⁻² \\\\\n",
       "\t22 & 2014-10-01T21:00:00+09:00 & 80.0 d & 1.27199 g m⁻² \\\\\n",
       "\t23 & 2014-10-01T22:00:00+09:00 & 80.0 d & 1.32971 g m⁻² \\\\\n",
       "\t24 & 2014-10-01T23:00:00+09:00 & 80.0 d & 1.38727 g m⁻² \\\\\n",
       "\t25 & 2014-10-02T00:00:00+09:00 & 80.0 d & 1.44466 g m⁻² \\\\\n",
       "\t26 & 2014-10-02T01:00:00+09:00 & 80.0 d & 1.50182 g m⁻² \\\\\n",
       "\t27 & 2014-10-02T02:00:00+09:00 & 80.0 d & 1.55874 g m⁻² \\\\\n",
       "\t28 & 2014-10-02T03:00:00+09:00 & 80.0 d & 1.61543 g m⁻² \\\\\n",
       "\t29 & 2014-10-02T04:00:00+09:00 & 80.0 d & 1.67146 g m⁻² \\\\\n",
       "\t30 & 2014-10-02T05:00:00+09:00 & 80.0 d & 1.72727 g m⁻² \\\\\n",
       "\t$\\dots$ & $\\dots$ & $\\dots$ & $\\dots$ \\\\\n",
       "\\end{tabular}\n"
      ],
      "text/plain": [
       "\u001b[1m97935×3 DataFrame\u001b[0m\n",
       "\u001b[1m   Row \u001b[0m│\u001b[1m time                      \u001b[0m\u001b[1m phenology.storage_days \u001b[0m\u001b[1m dry_yield       \u001b[0m\n",
       "       │\u001b[90m ZonedDat…                 \u001b[0m\u001b[90m Quantity…              \u001b[0m\u001b[90m Quantity…       \u001b[0m\n",
       "───────┼────────────────────────────────────────────────────────────────────\n",
       "     1 │ 2014-10-01T00:00:00+09:00                  80.0 d        0.0 g m⁻²\n",
       "     2 │ 2014-10-01T01:00:00+09:00                  80.0 d  0.0634804 g m⁻²\n",
       "     3 │ 2014-10-01T02:00:00+09:00                  80.0 d   0.126607 g m⁻²\n",
       "     4 │ 2014-10-01T03:00:00+09:00                  80.0 d   0.189471 g m⁻²\n",
       "     5 │ 2014-10-01T04:00:00+09:00                  80.0 d   0.252121 g m⁻²\n",
       "     6 │ 2014-10-01T05:00:00+09:00                  80.0 d   0.314132 g m⁻²\n",
       "     7 │ 2014-10-01T06:00:00+09:00                  80.0 d   0.375614 g m⁻²\n",
       "     8 │ 2014-10-01T07:00:00+09:00                  80.0 d   0.436742 g m⁻²\n",
       "     9 │ 2014-10-01T08:00:00+09:00                  80.0 d   0.497817 g m⁻²\n",
       "    10 │ 2014-10-01T09:00:00+09:00                  80.0 d   0.559026 g m⁻²\n",
       "    11 │ 2014-10-01T10:00:00+09:00                  80.0 d   0.620117 g m⁻²\n",
       "   ⋮   │             ⋮                        ⋮                    ⋮\n",
       " 97926 │ 2015-06-29T15:00:00+09:00                 150.0 d    1098.28 g m⁻²\n",
       " 97927 │ 2015-06-29T16:00:00+09:00                 150.0 d    1098.28 g m⁻²\n",
       " 97928 │ 2015-06-29T17:00:00+09:00                 150.0 d    1098.28 g m⁻²\n",
       " 97929 │ 2015-06-29T18:00:00+09:00                 150.0 d    1098.28 g m⁻²\n",
       " 97930 │ 2015-06-29T19:00:00+09:00                 150.0 d    1098.28 g m⁻²\n",
       " 97931 │ 2015-06-29T20:00:00+09:00                 150.0 d    1098.28 g m⁻²\n",
       " 97932 │ 2015-06-29T21:00:00+09:00                 150.0 d    1098.28 g m⁻²\n",
       " 97933 │ 2015-06-29T22:00:00+09:00                 150.0 d    1098.28 g m⁻²\n",
       " 97934 │ 2015-06-29T23:00:00+09:00                 150.0 d    1098.28 g m⁻²\n",
       " 97935 │ 2015-06-30T00:00:00+09:00                 150.0 d    1098.28 g m⁻²\n",
       "\u001b[36m                                                          97914 rows omitted\u001b[0m"
      ]
     },
     "execution_count": 96,
     "metadata": {},
     "output_type": "execute_result"
    }
   ],
   "source": [
    "#저장기간에 따른 시뮬레이션\n",
    "days_sim_result = simulate(Garlic.Model; configs = storage_days_configs, index = \"time\",target = [\"phenology.storage_days\", \"dry_yield\"], stop = \"calendar.count\")"
   ]
  },
  {
   "cell_type": "code",
   "execution_count": 98,
   "id": "47906a77-8ce9-4191-8ce5-55b532223375",
   "metadata": {},
   "outputs": [
    {
     "data": {
      "text/html": [
       "<div><div style = \"float: left;\"><span>97935×3 DataFrame</span></div><div style = \"float: right;\"><span style = \"font-style: italic;\">97910 rows omitted</span></div><div style = \"clear: both;\"></div></div><div class = \"data-frame\" style = \"overflow-x: scroll;\"><table class = \"data-frame\" style = \"margin-bottom: 6px;\"><thead><tr class = \"header\"><th class = \"rowNumber\" style = \"font-weight: bold; text-align: right;\">Row</th><th style = \"text-align: left;\">time</th><th style = \"text-align: left;\">phenology.storage_days</th><th style = \"text-align: left;\">dry_yield</th></tr><tr class = \"subheader headerLastRow\"><th class = \"rowNumber\" style = \"font-weight: bold; text-align: right;\"></th><th title = \"ZonedDateTime\" style = \"text-align: left;\">ZonedDat…</th><th title = \"Unitful.Quantity{Float64, 𝐓, Unitful.FreeUnits{(d,), 𝐓, nothing}}\" style = \"text-align: left;\">Quantity…</th><th title = \"Unitful.Quantity{Float64, 𝐌 𝐋⁻², Unitful.FreeUnits{(g, m⁻²), 𝐌 𝐋⁻², nothing}}\" style = \"text-align: left;\">Quantity…</th></tr></thead><tbody><tr><td class = \"rowNumber\" style = \"font-weight: bold; text-align: right;\">1</td><td style = \"text-align: left;\">2014-10-01T00:00:00+09:00</td><td style = \"text-align: right;\">80.0 d</td><td style = \"text-align: right;\">0.0 g m⁻²</td></tr><tr><td class = \"rowNumber\" style = \"font-weight: bold; text-align: right;\">2</td><td style = \"text-align: left;\">2014-10-01T01:00:00+09:00</td><td style = \"text-align: right;\">80.0 d</td><td style = \"text-align: right;\">0.0634804 g m⁻²</td></tr><tr><td class = \"rowNumber\" style = \"font-weight: bold; text-align: right;\">3</td><td style = \"text-align: left;\">2014-10-01T02:00:00+09:00</td><td style = \"text-align: right;\">80.0 d</td><td style = \"text-align: right;\">0.126607 g m⁻²</td></tr><tr><td class = \"rowNumber\" style = \"font-weight: bold; text-align: right;\">4</td><td style = \"text-align: left;\">2014-10-01T03:00:00+09:00</td><td style = \"text-align: right;\">80.0 d</td><td style = \"text-align: right;\">0.189471 g m⁻²</td></tr><tr><td class = \"rowNumber\" style = \"font-weight: bold; text-align: right;\">5</td><td style = \"text-align: left;\">2014-10-01T04:00:00+09:00</td><td style = \"text-align: right;\">80.0 d</td><td style = \"text-align: right;\">0.252121 g m⁻²</td></tr><tr><td class = \"rowNumber\" style = \"font-weight: bold; text-align: right;\">6</td><td style = \"text-align: left;\">2014-10-01T05:00:00+09:00</td><td style = \"text-align: right;\">80.0 d</td><td style = \"text-align: right;\">0.314132 g m⁻²</td></tr><tr><td class = \"rowNumber\" style = \"font-weight: bold; text-align: right;\">7</td><td style = \"text-align: left;\">2014-10-01T06:00:00+09:00</td><td style = \"text-align: right;\">80.0 d</td><td style = \"text-align: right;\">0.375614 g m⁻²</td></tr><tr><td class = \"rowNumber\" style = \"font-weight: bold; text-align: right;\">8</td><td style = \"text-align: left;\">2014-10-01T07:00:00+09:00</td><td style = \"text-align: right;\">80.0 d</td><td style = \"text-align: right;\">0.436742 g m⁻²</td></tr><tr><td class = \"rowNumber\" style = \"font-weight: bold; text-align: right;\">9</td><td style = \"text-align: left;\">2014-10-01T08:00:00+09:00</td><td style = \"text-align: right;\">80.0 d</td><td style = \"text-align: right;\">0.497817 g m⁻²</td></tr><tr><td class = \"rowNumber\" style = \"font-weight: bold; text-align: right;\">10</td><td style = \"text-align: left;\">2014-10-01T09:00:00+09:00</td><td style = \"text-align: right;\">80.0 d</td><td style = \"text-align: right;\">0.559026 g m⁻²</td></tr><tr><td class = \"rowNumber\" style = \"font-weight: bold; text-align: right;\">11</td><td style = \"text-align: left;\">2014-10-01T10:00:00+09:00</td><td style = \"text-align: right;\">80.0 d</td><td style = \"text-align: right;\">0.620117 g m⁻²</td></tr><tr><td class = \"rowNumber\" style = \"font-weight: bold; text-align: right;\">12</td><td style = \"text-align: left;\">2014-10-01T11:00:00+09:00</td><td style = \"text-align: right;\">80.0 d</td><td style = \"text-align: right;\">0.680901 g m⁻²</td></tr><tr><td class = \"rowNumber\" style = \"font-weight: bold; text-align: right;\">13</td><td style = \"text-align: left;\">2014-10-01T12:00:00+09:00</td><td style = \"text-align: right;\">80.0 d</td><td style = \"text-align: right;\">0.741069 g m⁻²</td></tr><tr><td style = \"text-align: right;\">&vellip;</td><td style = \"text-align: right;\">&vellip;</td><td style = \"text-align: right;\">&vellip;</td><td style = \"text-align: right;\">&vellip;</td></tr><tr><td class = \"rowNumber\" style = \"font-weight: bold; text-align: right;\">97924</td><td style = \"text-align: left;\">2015-06-29T13:00:00+09:00</td><td style = \"text-align: right;\">150.0 d</td><td style = \"text-align: right;\">1098.28 g m⁻²</td></tr><tr><td class = \"rowNumber\" style = \"font-weight: bold; text-align: right;\">97925</td><td style = \"text-align: left;\">2015-06-29T14:00:00+09:00</td><td style = \"text-align: right;\">150.0 d</td><td style = \"text-align: right;\">1098.28 g m⁻²</td></tr><tr><td class = \"rowNumber\" style = \"font-weight: bold; text-align: right;\">97926</td><td style = \"text-align: left;\">2015-06-29T15:00:00+09:00</td><td style = \"text-align: right;\">150.0 d</td><td style = \"text-align: right;\">1098.28 g m⁻²</td></tr><tr><td class = \"rowNumber\" style = \"font-weight: bold; text-align: right;\">97927</td><td style = \"text-align: left;\">2015-06-29T16:00:00+09:00</td><td style = \"text-align: right;\">150.0 d</td><td style = \"text-align: right;\">1098.28 g m⁻²</td></tr><tr><td class = \"rowNumber\" style = \"font-weight: bold; text-align: right;\">97928</td><td style = \"text-align: left;\">2015-06-29T17:00:00+09:00</td><td style = \"text-align: right;\">150.0 d</td><td style = \"text-align: right;\">1098.28 g m⁻²</td></tr><tr><td class = \"rowNumber\" style = \"font-weight: bold; text-align: right;\">97929</td><td style = \"text-align: left;\">2015-06-29T18:00:00+09:00</td><td style = \"text-align: right;\">150.0 d</td><td style = \"text-align: right;\">1098.28 g m⁻²</td></tr><tr><td class = \"rowNumber\" style = \"font-weight: bold; text-align: right;\">97930</td><td style = \"text-align: left;\">2015-06-29T19:00:00+09:00</td><td style = \"text-align: right;\">150.0 d</td><td style = \"text-align: right;\">1098.28 g m⁻²</td></tr><tr><td class = \"rowNumber\" style = \"font-weight: bold; text-align: right;\">97931</td><td style = \"text-align: left;\">2015-06-29T20:00:00+09:00</td><td style = \"text-align: right;\">150.0 d</td><td style = \"text-align: right;\">1098.28 g m⁻²</td></tr><tr><td class = \"rowNumber\" style = \"font-weight: bold; text-align: right;\">97932</td><td style = \"text-align: left;\">2015-06-29T21:00:00+09:00</td><td style = \"text-align: right;\">150.0 d</td><td style = \"text-align: right;\">1098.28 g m⁻²</td></tr><tr><td class = \"rowNumber\" style = \"font-weight: bold; text-align: right;\">97933</td><td style = \"text-align: left;\">2015-06-29T22:00:00+09:00</td><td style = \"text-align: right;\">150.0 d</td><td style = \"text-align: right;\">1098.28 g m⁻²</td></tr><tr><td class = \"rowNumber\" style = \"font-weight: bold; text-align: right;\">97934</td><td style = \"text-align: left;\">2015-06-29T23:00:00+09:00</td><td style = \"text-align: right;\">150.0 d</td><td style = \"text-align: right;\">1098.28 g m⁻²</td></tr><tr><td class = \"rowNumber\" style = \"font-weight: bold; text-align: right;\">97935</td><td style = \"text-align: left;\">2015-06-30T00:00:00+09:00</td><td style = \"text-align: right;\">150.0 d</td><td style = \"text-align: right;\">1098.28 g m⁻²</td></tr></tbody></table></div>"
      ],
      "text/latex": [
       "\\begin{tabular}{r|ccc}\n",
       "\t& time & phenology.storage\\_days & dry\\_yield\\\\\n",
       "\t\\hline\n",
       "\t& ZonedDat… & Quantity… & Quantity…\\\\\n",
       "\t\\hline\n",
       "\t1 & 2014-10-01T00:00:00+09:00 & 80.0 d & 0.0 g m⁻² \\\\\n",
       "\t2 & 2014-10-01T01:00:00+09:00 & 80.0 d & 0.0634804 g m⁻² \\\\\n",
       "\t3 & 2014-10-01T02:00:00+09:00 & 80.0 d & 0.126607 g m⁻² \\\\\n",
       "\t4 & 2014-10-01T03:00:00+09:00 & 80.0 d & 0.189471 g m⁻² \\\\\n",
       "\t5 & 2014-10-01T04:00:00+09:00 & 80.0 d & 0.252121 g m⁻² \\\\\n",
       "\t6 & 2014-10-01T05:00:00+09:00 & 80.0 d & 0.314132 g m⁻² \\\\\n",
       "\t7 & 2014-10-01T06:00:00+09:00 & 80.0 d & 0.375614 g m⁻² \\\\\n",
       "\t8 & 2014-10-01T07:00:00+09:00 & 80.0 d & 0.436742 g m⁻² \\\\\n",
       "\t9 & 2014-10-01T08:00:00+09:00 & 80.0 d & 0.497817 g m⁻² \\\\\n",
       "\t10 & 2014-10-01T09:00:00+09:00 & 80.0 d & 0.559026 g m⁻² \\\\\n",
       "\t11 & 2014-10-01T10:00:00+09:00 & 80.0 d & 0.620117 g m⁻² \\\\\n",
       "\t12 & 2014-10-01T11:00:00+09:00 & 80.0 d & 0.680901 g m⁻² \\\\\n",
       "\t13 & 2014-10-01T12:00:00+09:00 & 80.0 d & 0.741069 g m⁻² \\\\\n",
       "\t14 & 2014-10-01T13:00:00+09:00 & 80.0 d & 0.800794 g m⁻² \\\\\n",
       "\t15 & 2014-10-01T14:00:00+09:00 & 80.0 d & 0.860165 g m⁻² \\\\\n",
       "\t16 & 2014-10-01T15:00:00+09:00 & 80.0 d & 0.919399 g m⁻² \\\\\n",
       "\t17 & 2014-10-01T16:00:00+09:00 & 80.0 d & 0.978583 g m⁻² \\\\\n",
       "\t18 & 2014-10-01T17:00:00+09:00 & 80.0 d & 1.03733 g m⁻² \\\\\n",
       "\t19 & 2014-10-01T18:00:00+09:00 & 80.0 d & 1.09611 g m⁻² \\\\\n",
       "\t20 & 2014-10-01T19:00:00+09:00 & 80.0 d & 1.15511 g m⁻² \\\\\n",
       "\t21 & 2014-10-01T20:00:00+09:00 & 80.0 d & 1.21382 g m⁻² \\\\\n",
       "\t22 & 2014-10-01T21:00:00+09:00 & 80.0 d & 1.27199 g m⁻² \\\\\n",
       "\t23 & 2014-10-01T22:00:00+09:00 & 80.0 d & 1.32971 g m⁻² \\\\\n",
       "\t24 & 2014-10-01T23:00:00+09:00 & 80.0 d & 1.38727 g m⁻² \\\\\n",
       "\t25 & 2014-10-02T00:00:00+09:00 & 80.0 d & 1.44466 g m⁻² \\\\\n",
       "\t26 & 2014-10-02T01:00:00+09:00 & 80.0 d & 1.50182 g m⁻² \\\\\n",
       "\t27 & 2014-10-02T02:00:00+09:00 & 80.0 d & 1.55874 g m⁻² \\\\\n",
       "\t28 & 2014-10-02T03:00:00+09:00 & 80.0 d & 1.61543 g m⁻² \\\\\n",
       "\t29 & 2014-10-02T04:00:00+09:00 & 80.0 d & 1.67146 g m⁻² \\\\\n",
       "\t30 & 2014-10-02T05:00:00+09:00 & 80.0 d & 1.72727 g m⁻² \\\\\n",
       "\t$\\dots$ & $\\dots$ & $\\dots$ & $\\dots$ \\\\\n",
       "\\end{tabular}\n"
      ],
      "text/plain": [
       "\u001b[1m97935×3 DataFrame\u001b[0m\n",
       "\u001b[1m   Row \u001b[0m│\u001b[1m time                      \u001b[0m\u001b[1m phenology.storage_days \u001b[0m\u001b[1m dry_yield       \u001b[0m\n",
       "       │\u001b[90m ZonedDat…                 \u001b[0m\u001b[90m Quantity…              \u001b[0m\u001b[90m Quantity…       \u001b[0m\n",
       "───────┼────────────────────────────────────────────────────────────────────\n",
       "     1 │ 2014-10-01T00:00:00+09:00                  80.0 d        0.0 g m⁻²\n",
       "     2 │ 2014-10-01T01:00:00+09:00                  80.0 d  0.0634804 g m⁻²\n",
       "     3 │ 2014-10-01T02:00:00+09:00                  80.0 d   0.126607 g m⁻²\n",
       "     4 │ 2014-10-01T03:00:00+09:00                  80.0 d   0.189471 g m⁻²\n",
       "     5 │ 2014-10-01T04:00:00+09:00                  80.0 d   0.252121 g m⁻²\n",
       "     6 │ 2014-10-01T05:00:00+09:00                  80.0 d   0.314132 g m⁻²\n",
       "     7 │ 2014-10-01T06:00:00+09:00                  80.0 d   0.375614 g m⁻²\n",
       "     8 │ 2014-10-01T07:00:00+09:00                  80.0 d   0.436742 g m⁻²\n",
       "     9 │ 2014-10-01T08:00:00+09:00                  80.0 d   0.497817 g m⁻²\n",
       "    10 │ 2014-10-01T09:00:00+09:00                  80.0 d   0.559026 g m⁻²\n",
       "    11 │ 2014-10-01T10:00:00+09:00                  80.0 d   0.620117 g m⁻²\n",
       "   ⋮   │             ⋮                        ⋮                    ⋮\n",
       " 97926 │ 2015-06-29T15:00:00+09:00                 150.0 d    1098.28 g m⁻²\n",
       " 97927 │ 2015-06-29T16:00:00+09:00                 150.0 d    1098.28 g m⁻²\n",
       " 97928 │ 2015-06-29T17:00:00+09:00                 150.0 d    1098.28 g m⁻²\n",
       " 97929 │ 2015-06-29T18:00:00+09:00                 150.0 d    1098.28 g m⁻²\n",
       " 97930 │ 2015-06-29T19:00:00+09:00                 150.0 d    1098.28 g m⁻²\n",
       " 97931 │ 2015-06-29T20:00:00+09:00                 150.0 d    1098.28 g m⁻²\n",
       " 97932 │ 2015-06-29T21:00:00+09:00                 150.0 d    1098.28 g m⁻²\n",
       " 97933 │ 2015-06-29T22:00:00+09:00                 150.0 d    1098.28 g m⁻²\n",
       " 97934 │ 2015-06-29T23:00:00+09:00                 150.0 d    1098.28 g m⁻²\n",
       " 97935 │ 2015-06-30T00:00:00+09:00                 150.0 d    1098.28 g m⁻²\n",
       "\u001b[36m                                                          97914 rows omitted\u001b[0m"
      ]
     },
     "execution_count": 98,
     "metadata": {},
     "output_type": "execute_result"
    }
   ],
   "source": [
    "tem_df = DataFrame(tem_sim_result)\n",
    "days_df = DataFrame(days_sim_result)"
   ]
  },
  {
   "cell_type": "code",
   "execution_count": null,
   "id": "7a923cfb-9bc0-4c59-b207-b47b014e4f70",
   "metadata": {},
   "outputs": [],
   "source": [
    "days_df = DataFrame"
   ]
  },
  {
   "cell_type": "code",
   "execution_count": 101,
   "id": "8c5e352b-b618-41db-a1af-a3cb9d5f91e2",
   "metadata": {},
   "outputs": [
    {
     "data": {
      "text/plain": [
       "\"tem_sim_result\""
      ]
     },
     "execution_count": 101,
     "metadata": {},
     "output_type": "execute_result"
    }
   ],
   "source": [
    "CSV.write(\"tem_sim_result\", df)"
   ]
  },
  {
   "cell_type": "code",
   "execution_count": 117,
   "id": "433e11f2-dca9-4b1e-8acd-17088650b94f",
   "metadata": {},
   "outputs": [
    {
     "data": {
      "text/html": [
       "<div><div style = \"float: left;\"><span>26116×3 DataFrame</span></div><div style = \"float: right;\"><span style = \"font-style: italic;\">26091 rows omitted</span></div><div style = \"clear: both;\"></div></div><div class = \"data-frame\" style = \"overflow-x: scroll;\"><table class = \"data-frame\" style = \"margin-bottom: 6px;\"><thead><tr class = \"header\"><th class = \"rowNumber\" style = \"font-weight: bold; text-align: right;\">Row</th><th style = \"text-align: left;\">time</th><th style = \"text-align: left;\">phenology.storage_temperature</th><th style = \"text-align: left;\">dry_yield</th></tr><tr class = \"subheader headerLastRow\"><th class = \"rowNumber\" style = \"font-weight: bold; text-align: right;\"></th><th title = \"String31\" style = \"text-align: left;\">String31</th><th title = \"String15\" style = \"text-align: left;\">String15</th><th title = \"String31\" style = \"text-align: left;\">String31</th></tr></thead><tbody><tr><td class = \"rowNumber\" style = \"font-weight: bold; text-align: right;\">1</td><td style = \"text-align: left;\">2014-10-01T00:00:00.000+09:00</td><td style = \"text-align: left;\">5.0 °C</td><td style = \"text-align: left;\">0.0 g m⁻²</td></tr><tr><td class = \"rowNumber\" style = \"font-weight: bold; text-align: right;\">2</td><td style = \"text-align: left;\">2014-10-01T01:00:00.000+09:00</td><td style = \"text-align: left;\">5.0 °C</td><td style = \"text-align: left;\">0.06348039967213961 g m⁻²</td></tr><tr><td class = \"rowNumber\" style = \"font-weight: bold; text-align: right;\">3</td><td style = \"text-align: left;\">2014-10-01T02:00:00.000+09:00</td><td style = \"text-align: left;\">5.0 °C</td><td style = \"text-align: left;\">0.12660657521965102 g m⁻²</td></tr><tr><td class = \"rowNumber\" style = \"font-weight: bold; text-align: right;\">4</td><td style = \"text-align: left;\">2014-10-01T03:00:00.000+09:00</td><td style = \"text-align: left;\">5.0 °C</td><td style = \"text-align: left;\">0.1894705684590897 g m⁻²</td></tr><tr><td class = \"rowNumber\" style = \"font-weight: bold; text-align: right;\">5</td><td style = \"text-align: left;\">2014-10-01T04:00:00.000+09:00</td><td style = \"text-align: left;\">5.0 °C</td><td style = \"text-align: left;\">0.2521213910451392 g m⁻²</td></tr><tr><td class = \"rowNumber\" style = \"font-weight: bold; text-align: right;\">6</td><td style = \"text-align: left;\">2014-10-01T05:00:00.000+09:00</td><td style = \"text-align: left;\">5.0 °C</td><td style = \"text-align: left;\">0.3141317178438262 g m⁻²</td></tr><tr><td class = \"rowNumber\" style = \"font-weight: bold; text-align: right;\">7</td><td style = \"text-align: left;\">2014-10-01T06:00:00.000+09:00</td><td style = \"text-align: left;\">5.0 °C</td><td style = \"text-align: left;\">0.37561447772923146 g m⁻²</td></tr><tr><td class = \"rowNumber\" style = \"font-weight: bold; text-align: right;\">8</td><td style = \"text-align: left;\">2014-10-01T07:00:00.000+09:00</td><td style = \"text-align: left;\">5.0 °C</td><td style = \"text-align: left;\">0.43674249830290923 g m⁻²</td></tr><tr><td class = \"rowNumber\" style = \"font-weight: bold; text-align: right;\">9</td><td style = \"text-align: left;\">2014-10-01T08:00:00.000+09:00</td><td style = \"text-align: left;\">5.0 °C</td><td style = \"text-align: left;\">0.49781657593129286 g m⁻²</td></tr><tr><td class = \"rowNumber\" style = \"font-weight: bold; text-align: right;\">10</td><td style = \"text-align: left;\">2014-10-01T09:00:00.000+09:00</td><td style = \"text-align: left;\">5.0 °C</td><td style = \"text-align: left;\">0.5590263377724513 g m⁻²</td></tr><tr><td class = \"rowNumber\" style = \"font-weight: bold; text-align: right;\">11</td><td style = \"text-align: left;\">2014-10-01T10:00:00.000+09:00</td><td style = \"text-align: left;\">5.0 °C</td><td style = \"text-align: left;\">0.620116790899517 g m⁻²</td></tr><tr><td class = \"rowNumber\" style = \"font-weight: bold; text-align: right;\">12</td><td style = \"text-align: left;\">2014-10-01T11:00:00.000+09:00</td><td style = \"text-align: left;\">5.0 °C</td><td style = \"text-align: left;\">0.6809013735706823 g m⁻²</td></tr><tr><td class = \"rowNumber\" style = \"font-weight: bold; text-align: right;\">13</td><td style = \"text-align: left;\">2014-10-01T12:00:00.000+09:00</td><td style = \"text-align: left;\">5.0 °C</td><td style = \"text-align: left;\">0.7410691830328772 g m⁻²</td></tr><tr><td style = \"text-align: right;\">&vellip;</td><td style = \"text-align: right;\">&vellip;</td><td style = \"text-align: right;\">&vellip;</td><td style = \"text-align: right;\">&vellip;</td></tr><tr><td class = \"rowNumber\" style = \"font-weight: bold; text-align: right;\">26105</td><td style = \"text-align: left;\">2015-06-29T13:00:00.000+09:00</td><td style = \"text-align: left;\">20.0 °C</td><td style = \"text-align: left;\">1300.987469434627 g m⁻²</td></tr><tr><td class = \"rowNumber\" style = \"font-weight: bold; text-align: right;\">26106</td><td style = \"text-align: left;\">2015-06-29T14:00:00.000+09:00</td><td style = \"text-align: left;\">20.0 °C</td><td style = \"text-align: left;\">1305.1885590303125 g m⁻²</td></tr><tr><td class = \"rowNumber\" style = \"font-weight: bold; text-align: right;\">26107</td><td style = \"text-align: left;\">2015-06-29T15:00:00.000+09:00</td><td style = \"text-align: left;\">20.0 °C</td><td style = \"text-align: left;\">1307.793091872623 g m⁻²</td></tr><tr><td class = \"rowNumber\" style = \"font-weight: bold; text-align: right;\">26108</td><td style = \"text-align: left;\">2015-06-29T16:00:00.000+09:00</td><td style = \"text-align: left;\">20.0 °C</td><td style = \"text-align: left;\">1309.5383351263597 g m⁻²</td></tr><tr><td class = \"rowNumber\" style = \"font-weight: bold; text-align: right;\">26109</td><td style = \"text-align: left;\">2015-06-29T17:00:00.000+09:00</td><td style = \"text-align: left;\">20.0 °C</td><td style = \"text-align: left;\">1311.3026525821722 g m⁻²</td></tr><tr><td class = \"rowNumber\" style = \"font-weight: bold; text-align: right;\">26110</td><td style = \"text-align: left;\">2015-06-29T18:00:00.000+09:00</td><td style = \"text-align: left;\">20.0 °C</td><td style = \"text-align: left;\">1312.5800464599977 g m⁻²</td></tr><tr><td class = \"rowNumber\" style = \"font-weight: bold; text-align: right;\">26111</td><td style = \"text-align: left;\">2015-06-29T19:00:00.000+09:00</td><td style = \"text-align: left;\">20.0 °C</td><td style = \"text-align: left;\">1313.9298634398617 g m⁻²</td></tr><tr><td class = \"rowNumber\" style = \"font-weight: bold; text-align: right;\">26112</td><td style = \"text-align: left;\">2015-06-29T20:00:00.000+09:00</td><td style = \"text-align: left;\">20.0 °C</td><td style = \"text-align: left;\">1313.3123882424748 g m⁻²</td></tr><tr><td class = \"rowNumber\" style = \"font-weight: bold; text-align: right;\">26113</td><td style = \"text-align: left;\">2015-06-29T21:00:00.000+09:00</td><td style = \"text-align: left;\">20.0 °C</td><td style = \"text-align: left;\">1310.7444649782024 g m⁻²</td></tr><tr><td class = \"rowNumber\" style = \"font-weight: bold; text-align: right;\">26114</td><td style = \"text-align: left;\">2015-06-29T22:00:00.000+09:00</td><td style = \"text-align: left;\">20.0 °C</td><td style = \"text-align: left;\">1308.3918673671524 g m⁻²</td></tr><tr><td class = \"rowNumber\" style = \"font-weight: bold; text-align: right;\">26115</td><td style = \"text-align: left;\">2015-06-29T23:00:00.000+09:00</td><td style = \"text-align: left;\">20.0 °C</td><td style = \"text-align: left;\">1306.425300358788 g m⁻²</td></tr><tr><td class = \"rowNumber\" style = \"font-weight: bold; text-align: right;\">26116</td><td style = \"text-align: left;\">2015-06-30T00:00:00.000+09:00</td><td style = \"text-align: left;\">20.0 °C</td><td style = \"text-align: left;\">1304.7853962081688 g m⁻²</td></tr></tbody></table></div>"
      ],
      "text/latex": [
       "\\begin{tabular}{r|ccc}\n",
       "\t& time & phenology.storage\\_temperature & dry\\_yield\\\\\n",
       "\t\\hline\n",
       "\t& String31 & String15 & String31\\\\\n",
       "\t\\hline\n",
       "\t1 & 2014-10-01T00:00:00.000+09:00 & 5.0 °C & 0.0 g m⁻² \\\\\n",
       "\t2 & 2014-10-01T01:00:00.000+09:00 & 5.0 °C & 0.06348039967213961 g m⁻² \\\\\n",
       "\t3 & 2014-10-01T02:00:00.000+09:00 & 5.0 °C & 0.12660657521965102 g m⁻² \\\\\n",
       "\t4 & 2014-10-01T03:00:00.000+09:00 & 5.0 °C & 0.1894705684590897 g m⁻² \\\\\n",
       "\t5 & 2014-10-01T04:00:00.000+09:00 & 5.0 °C & 0.2521213910451392 g m⁻² \\\\\n",
       "\t6 & 2014-10-01T05:00:00.000+09:00 & 5.0 °C & 0.3141317178438262 g m⁻² \\\\\n",
       "\t7 & 2014-10-01T06:00:00.000+09:00 & 5.0 °C & 0.37561447772923146 g m⁻² \\\\\n",
       "\t8 & 2014-10-01T07:00:00.000+09:00 & 5.0 °C & 0.43674249830290923 g m⁻² \\\\\n",
       "\t9 & 2014-10-01T08:00:00.000+09:00 & 5.0 °C & 0.49781657593129286 g m⁻² \\\\\n",
       "\t10 & 2014-10-01T09:00:00.000+09:00 & 5.0 °C & 0.5590263377724513 g m⁻² \\\\\n",
       "\t11 & 2014-10-01T10:00:00.000+09:00 & 5.0 °C & 0.620116790899517 g m⁻² \\\\\n",
       "\t12 & 2014-10-01T11:00:00.000+09:00 & 5.0 °C & 0.6809013735706823 g m⁻² \\\\\n",
       "\t13 & 2014-10-01T12:00:00.000+09:00 & 5.0 °C & 0.7410691830328772 g m⁻² \\\\\n",
       "\t14 & 2014-10-01T13:00:00.000+09:00 & 5.0 °C & 0.8007936914639882 g m⁻² \\\\\n",
       "\t15 & 2014-10-01T14:00:00.000+09:00 & 5.0 °C & 0.8601646083906155 g m⁻² \\\\\n",
       "\t16 & 2014-10-01T15:00:00.000+09:00 & 5.0 °C & 0.9193992948595838 g m⁻² \\\\\n",
       "\t17 & 2014-10-01T16:00:00.000+09:00 & 5.0 °C & 0.9785829942901649 g m⁻² \\\\\n",
       "\t18 & 2014-10-01T17:00:00.000+09:00 & 5.0 °C & 1.0373306433606702 g m⁻² \\\\\n",
       "\t19 & 2014-10-01T18:00:00.000+09:00 & 5.0 °C & 1.0961126872865925 g m⁻² \\\\\n",
       "\t20 & 2014-10-01T19:00:00.000+09:00 & 5.0 °C & 1.1551065179135163 g m⁻² \\\\\n",
       "\t21 & 2014-10-01T20:00:00.000+09:00 & 5.0 °C & 1.2138153771820022 g m⁻² \\\\\n",
       "\t22 & 2014-10-01T21:00:00.000+09:00 & 5.0 °C & 1.2719945683051013 g m⁻² \\\\\n",
       "\t23 & 2014-10-01T22:00:00.000+09:00 & 5.0 °C & 1.3297125442686386 g m⁻² \\\\\n",
       "\t24 & 2014-10-01T23:00:00.000+09:00 & 5.0 °C & 1.3872711659299946 g m⁻² \\\\\n",
       "\t25 & 2014-10-02T00:00:00.000+09:00 & 5.0 °C & 1.4446648415440808 g m⁻² \\\\\n",
       "\t26 & 2014-10-02T01:00:00.000+09:00 & 5.0 °C & 1.5018211132176706 g m⁻² \\\\\n",
       "\t27 & 2014-10-02T02:00:00.000+09:00 & 5.0 °C & 1.5587409629514872 g m⁻² \\\\\n",
       "\t28 & 2014-10-02T03:00:00.000+09:00 & 5.0 °C & 1.6154253686842943 g m⁻² \\\\\n",
       "\t29 & 2014-10-02T04:00:00.000+09:00 & 5.0 °C & 1.6714625201479483 g m⁻² \\\\\n",
       "\t30 & 2014-10-02T05:00:00.000+09:00 & 5.0 °C & 1.7272695737753267 g m⁻² \\\\\n",
       "\t$\\dots$ & $\\dots$ & $\\dots$ & $\\dots$ \\\\\n",
       "\\end{tabular}\n"
      ],
      "text/plain": [
       "\u001b[1m26116×3 DataFrame\u001b[0m\n",
       "\u001b[1m   Row \u001b[0m│\u001b[1m time                          \u001b[0m\u001b[1m phenology.storage_temperature \u001b[0m\u001b[1m dry_yie\u001b[0m ⋯\n",
       "       │\u001b[90m String31                      \u001b[0m\u001b[90m String15                      \u001b[0m\u001b[90m String3\u001b[0m ⋯\n",
       "───────┼────────────────────────────────────────────────────────────────────────\n",
       "     1 │ 2014-10-01T00:00:00.000+09:00  5.0 °C                         0.0 g m ⋯\n",
       "     2 │ 2014-10-01T01:00:00.000+09:00  5.0 °C                         0.06348\n",
       "     3 │ 2014-10-01T02:00:00.000+09:00  5.0 °C                         0.12660\n",
       "     4 │ 2014-10-01T03:00:00.000+09:00  5.0 °C                         0.18947\n",
       "     5 │ 2014-10-01T04:00:00.000+09:00  5.0 °C                         0.25212 ⋯\n",
       "     6 │ 2014-10-01T05:00:00.000+09:00  5.0 °C                         0.31413\n",
       "     7 │ 2014-10-01T06:00:00.000+09:00  5.0 °C                         0.37561\n",
       "     8 │ 2014-10-01T07:00:00.000+09:00  5.0 °C                         0.43674\n",
       "     9 │ 2014-10-01T08:00:00.000+09:00  5.0 °C                         0.49781 ⋯\n",
       "    10 │ 2014-10-01T09:00:00.000+09:00  5.0 °C                         0.55902\n",
       "    11 │ 2014-10-01T10:00:00.000+09:00  5.0 °C                         0.62011\n",
       "   ⋮   │               ⋮                              ⋮                        ⋱\n",
       " 26107 │ 2015-06-29T15:00:00.000+09:00  20.0 °C                        1307.79\n",
       " 26108 │ 2015-06-29T16:00:00.000+09:00  20.0 °C                        1309.53 ⋯\n",
       " 26109 │ 2015-06-29T17:00:00.000+09:00  20.0 °C                        1311.30\n",
       " 26110 │ 2015-06-29T18:00:00.000+09:00  20.0 °C                        1312.58\n",
       " 26111 │ 2015-06-29T19:00:00.000+09:00  20.0 °C                        1313.92\n",
       " 26112 │ 2015-06-29T20:00:00.000+09:00  20.0 °C                        1313.31 ⋯\n",
       " 26113 │ 2015-06-29T21:00:00.000+09:00  20.0 °C                        1310.74\n",
       " 26114 │ 2015-06-29T22:00:00.000+09:00  20.0 °C                        1308.39\n",
       " 26115 │ 2015-06-29T23:00:00.000+09:00  20.0 °C                        1306.42\n",
       " 26116 │ 2015-06-30T00:00:00.000+09:00  20.0 °C                        1304.78 ⋯\n",
       "\u001b[36m                                                 1 column and 26095 rows omitted\u001b[0m"
      ]
     },
     "execution_count": 117,
     "metadata": {},
     "output_type": "execute_result"
    }
   ],
   "source": [
    "CSV.read(\"tem_sim_result\", DataFrame)"
   ]
  },
  {
   "cell_type": "code",
   "execution_count": 119,
   "id": "fd6e30f3-e7ff-4b9e-b5dc-4e14970670da",
   "metadata": {},
   "outputs": [
    {
     "ename": "LoadError",
     "evalue": "MethodError: no method matching extractcolumn(::DataFrame, ::Pair{Symbol, Symbol})\n\n\u001b[0mClosest candidates are:\n\u001b[0m  extractcolumn(::DataFrame, \u001b[91m::Expr\u001b[39m)\n\u001b[0m\u001b[90m   @\u001b[39m \u001b[35mCropbox\u001b[39m \u001b[90m~/.julia/packages/Cropbox/w2gMd/src/util/\u001b[39m\u001b[90m\u001b[4mplot.jl:34\u001b[24m\u001b[39m\n\u001b[0m  extractcolumn(::DataFrame, \u001b[91m::String\u001b[39m)\n\u001b[0m\u001b[90m   @\u001b[39m \u001b[35mCropbox\u001b[39m \u001b[90m~/.julia/packages/Cropbox/w2gMd/src/util/\u001b[39m\u001b[90m\u001b[4mplot.jl:33\u001b[24m\u001b[39m\n\u001b[0m  extractcolumn(::DataFrame, \u001b[91m::Symbol\u001b[39m)\n\u001b[0m\u001b[90m   @\u001b[39m \u001b[35mCropbox\u001b[39m \u001b[90m~/.julia/packages/Cropbox/w2gMd/src/util/\u001b[39m\u001b[90m\u001b[4mplot.jl:32\u001b[24m\u001b[39m\n",
     "output_type": "error",
     "traceback": [
      "MethodError: no method matching extractcolumn(::DataFrame, ::Pair{Symbol, Symbol})\n\n\u001b[0mClosest candidates are:\n\u001b[0m  extractcolumn(::DataFrame, \u001b[91m::Expr\u001b[39m)\n\u001b[0m\u001b[90m   @\u001b[39m \u001b[35mCropbox\u001b[39m \u001b[90m~/.julia/packages/Cropbox/w2gMd/src/util/\u001b[39m\u001b[90m\u001b[4mplot.jl:34\u001b[24m\u001b[39m\n\u001b[0m  extractcolumn(::DataFrame, \u001b[91m::String\u001b[39m)\n\u001b[0m\u001b[90m   @\u001b[39m \u001b[35mCropbox\u001b[39m \u001b[90m~/.julia/packages/Cropbox/w2gMd/src/util/\u001b[39m\u001b[90m\u001b[4mplot.jl:33\u001b[24m\u001b[39m\n\u001b[0m  extractcolumn(::DataFrame, \u001b[91m::Symbol\u001b[39m)\n\u001b[0m\u001b[90m   @\u001b[39m \u001b[35mCropbox\u001b[39m \u001b[90m~/.julia/packages/Cropbox/w2gMd/src/util/\u001b[39m\u001b[90m\u001b[4mplot.jl:32\u001b[24m\u001b[39m\n",
      "",
      "Stacktrace:",
      " [1] extractarray(df::DataFrame, n::Pair{Symbol, Symbol})",
      "   @ Cropbox ~/.julia/packages/Cropbox/w2gMd/src/util/plot.jl:47",
      " [2] (::Cropbox.var\"#arr#568\"{DataFrame})(n::Pair{Symbol, Symbol})",
      "   @ Cropbox ~/.julia/packages/Cropbox/w2gMd/src/util/plot.jl:100",
      " [3] plot!(p::Nothing, df::DataFrame, x::Pair{Symbol, Symbol}, ys::Vector{Symbol}; xlab::Nothing, ylab::Nothing, names::Vector{Nothing}, colors::Vector{Nothing}, kw::@Kwargs{kind::Symbol})",
      "   @ Cropbox ~/.julia/packages/Cropbox/w2gMd/src/util/plot.jl:101",
      " [4] plot(df::DataFrame, x::Pair{Symbol, Symbol}, ys::Vector{Symbol}; kw::@Kwargs{names::Vector{Nothing}, colors::Vector{Nothing}, kind::Symbol})",
      "   @ Cropbox ~/.julia/packages/Cropbox/w2gMd/src/util/plot.jl:87",
      " [5] plot(df::DataFrame, x::Pair{Symbol, Symbol}, y::Symbol; name::Nothing, color::Nothing, kw::@Kwargs{kind::Symbol})",
      "   @ Cropbox ~/.julia/packages/Cropbox/w2gMd/src/util/plot.jl:86",
      " [6] visualize(::DataFrame, ::Vararg{Any}; kw::@Kwargs{kind::Symbol})",
      "   @ Cropbox ~/.julia/packages/Cropbox/w2gMd/src/util/visualize.jl:36",
      " [7] top-level scope",
      "   @ In[119]:1"
     ]
    }
   ],
   "source": [
    "visualize(tem_sim_result, :phenology => :storage_temperature, :dry_yield;"
   ]
  },
  {
   "cell_type": "code",
   "execution_count": null,
   "id": "1b45578f-3648-4f5c-b746-95f3eccfce89",
   "metadata": {},
   "outputs": [],
   "source": []
  }
 ],
 "metadata": {
  "kernelspec": {
   "display_name": "Julia 1.10.0",
   "language": "julia",
   "name": "julia-1.10"
  },
  "language_info": {
   "file_extension": ".jl",
   "mimetype": "application/julia",
   "name": "julia",
   "version": "1.10.0"
  }
 },
 "nbformat": 4,
 "nbformat_minor": 5
}
